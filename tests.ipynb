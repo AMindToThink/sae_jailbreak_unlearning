{
 "cells": [
  {
   "cell_type": "code",
   "execution_count": 1,
   "metadata": {},
   "outputs": [
    {
     "data": {
      "text/plain": [
       "'wmdp_bio,mmlu_high_school_us_history,mmlu_high_school_geography,mmlu_human_aging'"
      ]
     },
     "execution_count": 1,
     "metadata": {},
     "output_type": "execute_result"
    }
   ],
   "source": [
    "topics = [\n",
    "    'wmdp_bio',\n",
    "    'mmlu_high_school_us_history',\n",
    "    'mmlu_high_school_geography',\n",
    "    'mmlu_human_aging'\n",
    "    ]\n",
    "topics = \",\".join(topics)\n",
    "topics"
   ]
  },
  {
   "cell_type": "code",
   "execution_count": null,
   "metadata": {},
   "outputs": [
    {
     "name": "stderr",
     "output_type": "stream",
     "text": [
      "  0%|          | 0/64 [00:00<?, ?it/s]"
     ]
    },
    {
     "name": "stdout",
     "output_type": "stream",
     "text": [
      "top_30_coef_-2_method_none_steer.csv\n"
     ]
    }
   ],
   "source": [
    "import os\n",
    "import subprocess\n",
    "from tqdm import tqdm\n",
    "import torch \n",
    "import time\n",
    "\n",
    "device = torch.device('cuda:1')\n",
    "# Specify the folder containing CSV files\n",
    "folder_path = \"/home/cs29824/andre/sae_jailbreak_unlearning/models/steer_dfs_final_3\"\n",
    "output_path = \"/home/cs29824/andre/sae_jailbreak_unlearning/results/google__gemma-2b_steer_eval_3\"\n",
    "os.makedirs(output_path, exist_ok=True)\n",
    "\n",
    "# Loop through each file in the folder\n",
    "for filename in tqdm(os.listdir(folder_path)):\n",
    "    print(filename)\n",
    "    # Check if the file is a CSV file\n",
    "    if filename.endswith(\".csv\"):\n",
    "        # Construct the full path to the CSV file\n",
    "        csv_file_path = os.path.join(folder_path, filename)\n",
    "\n",
    "        # Construct the command with the specific CSV file\n",
    "        command = f\"\"\"lm_eval \\\n",
    "                    --model steered \\\n",
    "                    --model_args csv_path={csv_file_path} \\\n",
    "                    --tasks {topics} \\\n",
    "                    --batch_size auto \\\n",
    "                    --output_path {output_path} \\\n",
    "                    --device cuda:1 \\\n",
    "\"\"\"\n",
    "        # Run the command and capture output\n",
    "        # Run the command in the shell\n",
    "        result = subprocess.run(command, capture_output=True, text=True, shell=True)\n",
    "        \n",
    "\n",
    "        # Print the result for each CSV file\n",
    "        print(f\"Results for {filename}:\")\n",
    "        print(f\"Stdout: {result.stdout}\")\n",
    "        print(f\"Stderr: {result.stderr}\")\n",
    "        print(f\"Return code: {result.returncode}\")\n",
    "        print(\"-\" * 50)\n",
    "\n",
    "        del result\n",
    "        with torch.cuda.device(device):\n",
    "            torch.cuda.empty_cache()\n",
    "            print(\"GPU memory cleared on cuda:1.\")\n",
    "        time.sleep(5)"
   ]
  },
  {
   "cell_type": "code",
   "execution_count": 6,
   "metadata": {},
   "outputs": [
    {
     "name": "stdout",
     "output_type": "stream",
     "text": [
      "GPU memory cleared on cuda:1.\n"
     ]
    },
    {
     "ename": "",
     "evalue": "",
     "output_type": "error",
     "traceback": [
      "\u001b[1;31mThe Kernel crashed while executing code in the current cell or a previous cell. \n",
      "\u001b[1;31mPlease review the code in the cell(s) to identify a possible cause of the failure. \n",
      "\u001b[1;31mClick <a href='https://aka.ms/vscodeJupyterKernelCrash'>here</a> for more info. \n",
      "\u001b[1;31mView Jupyter <a href='command:jupyter.viewOutput'>log</a> for further details."
     ]
    }
   ],
   "source": [
    "  # Wait a moment for the cache to clear\n",
    "time.sleep(5)\n",
    "with torch.cuda.device(device):\n",
    "    torch.cuda.empty_cache()\n",
    "    print(\"GPU memory cleared on cuda:1.\")"
   ]
  }
 ],
 "metadata": {
  "kernelspec": {
   "display_name": "interp_arena",
   "language": "python",
   "name": "python3"
  },
  "language_info": {
   "codemirror_mode": {
    "name": "ipython",
    "version": 3
   },
   "file_extension": ".py",
   "mimetype": "text/x-python",
   "name": "python",
   "nbconvert_exporter": "python",
   "pygments_lexer": "ipython3",
   "version": "3.11.11"
  }
 },
 "nbformat": 4,
 "nbformat_minor": 2
}
