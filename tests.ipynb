{
 "cells": [
  {
   "cell_type": "code",
   "execution_count": 2,
   "metadata": {},
   "outputs": [
    {
     "data": {
      "text/plain": [
       "'wmdp_bio,mmlu_high_school_us_history,mmlu_high_school_geography,mmlu_human_aging'"
      ]
     },
     "execution_count": 2,
     "metadata": {},
     "output_type": "execute_result"
    }
   ],
   "source": [
    "topics = [\n",
    "    'wmdp_bio',\n",
    "    'mmlu_high_school_us_history',\n",
    "    'mmlu_high_school_geography',\n",
    "    'mmlu_human_aging'\n",
    "    ]\n",
    "topics = \",\".join(topics)\n",
    "topics"
   ]
  },
  {
   "cell_type": "code",
   "execution_count": 8,
   "metadata": {},
   "outputs": [],
   "source": [
    "# import subprocess\n",
    "# csv_file_path = '/home/cs29824/andre/sae_jailbreak_unlearning/steer_dfs_final_7/top_20_coef_-50_method_none_steer.csv'\n",
    "# output_path = \"/home/cs29824/andre/sae_jailbreak_unlearning/results/\"\n",
    "# command = f\"\"\"lm_eval \\\n",
    "#             --model sae_steered_beta \\\n",
    "#             --model_args csv_path={csv_file_path},base_name=google/gemma-2-2b \\\n",
    "#             --tasks {topics} \\\n",
    "#             --batch_size auto \\\n",
    "#             --output_path {output_path} \\\n",
    "#             --device cuda:1 \\\n",
    "#                 \"\"\"\n",
    "# result = subprocess.run(command, capture_output=False, text=True, shell=True)"
   ]
  },
  {
   "cell_type": "code",
   "execution_count": null,
   "metadata": {},
   "outputs": [
    {
     "name": "stderr",
     "output_type": "stream",
     "text": [
      "  0%|          | 0/48 [00:00<?, ?it/s]"
     ]
    },
    {
     "name": "stdout",
     "output_type": "stream",
     "text": [
      "top_20_coef_-100_method_proportional_steer.csv\n"
     ]
    }
   ],
   "source": [
    "import os\n",
    "import subprocess\n",
    "from tqdm import tqdm\n",
    "import torch \n",
    "import time\n",
    "\n",
    "device = torch.device('cuda:1')\n",
    "# Specify the folder containing CSV files\n",
    "folder_path = \"/home/cs29824/andre/sae_jailbreak_unlearning/steer_dfs_final_7\"\n",
    "output_path = \"/home/cs29824/andre/sae_jailbreak_unlearning/results/google__gemma-2b_steer_eval_7\"\n",
    "os.makedirs(output_path, exist_ok=True)\n",
    "\n",
    "currents = [e.split(\"__\")[-1] for e in os.listdir(output_path)]\n",
    "\n",
    "\n",
    "# Loop through each file in the folder\n",
    "for filename in tqdm(os.listdir(folder_path)):\n",
    "    if filename.split('/')[-1] in currents:\n",
    "        print(f'{filename} is already tested!')\n",
    "        continue\n",
    "    print(filename)\n",
    "    # Check if the file is a CSV file\n",
    "    if filename.endswith(\".csv\"):\n",
    "        # Construct the full path to the CSV file\n",
    "        csv_file_path = os.path.join(folder_path, filename)\n",
    "        \n",
    "        # Construct the command with the specific CSV file\n",
    "        command = f\"\"\"lm_eval \\\n",
    "                    --model sae_steered_beta \\\n",
    "                    --model_args csv_path={csv_file_path},base_name='google/gemma-2-2b' \\\n",
    "                    --tasks {topics} \\\n",
    "                    --batch_size auto \\\n",
    "                    --output_path {output_path} \\\n",
    "                    --device cuda:1 \\\n",
    "\"\"\"\n",
    "        # Run the command and capture output\n",
    "        # Run the command in the shell\n",
    "        result = subprocess.run(command, capture_output=True, text=True, shell=True)\n",
    "        \n",
    "\n",
    "        # Print the result for each CSV file\n",
    "        print(f\"Results for {filename}:\")\n",
    "        print(f\"Stdout: {result.stdout}\")\n",
    "        print(f\"Stderr: {result.stderr}\")\n",
    "        print(f\"Return code: {result.returncode}\")\n",
    "        print(\"-\" * 50)\n",
    "\n",
    "        del result\n",
    "        with torch.cuda.device(device):\n",
    "            torch.cuda.empty_cache()\n",
    "            print(\"GPU memory cleared on cuda:1.\")\n",
    "        time.sleep(5)"
   ]
  },
  {
   "cell_type": "code",
   "execution_count": 1,
   "metadata": {},
   "outputs": [
    {
     "ename": "NameError",
     "evalue": "name 'time' is not defined",
     "output_type": "error",
     "traceback": [
      "\u001b[0;31m---------------------------------------------------------------------------\u001b[0m",
      "\u001b[0;31mNameError\u001b[0m                                 Traceback (most recent call last)",
      "Cell \u001b[0;32mIn[1], line 2\u001b[0m\n\u001b[1;32m      1\u001b[0m \u001b[38;5;66;03m# Wait a moment for the cache to clear\u001b[39;00m\n\u001b[0;32m----> 2\u001b[0m \u001b[43mtime\u001b[49m\u001b[38;5;241m.\u001b[39msleep(\u001b[38;5;241m5\u001b[39m)\n\u001b[1;32m      3\u001b[0m \u001b[38;5;28;01mwith\u001b[39;00m torch\u001b[38;5;241m.\u001b[39mcuda\u001b[38;5;241m.\u001b[39mdevice(device):\n\u001b[1;32m      4\u001b[0m   torch\u001b[38;5;241m.\u001b[39mcuda\u001b[38;5;241m.\u001b[39mempty_cache()\n",
      "\u001b[0;31mNameError\u001b[0m: name 'time' is not defined"
     ]
    }
   ],
   "source": [
    "  # Wait a moment for the cache to clear\n",
    "time.sleep(5)\n",
    "with torch.cuda.device(device):\n",
    "    torch.cuda.empty_cache()\n",
    "    print(\"GPU memory cleared on cuda:1.\")"
   ]
  },
  {
   "cell_type": "markdown",
   "metadata": {},
   "source": [
    "# Visualize"
   ]
  },
  {
   "cell_type": "code",
   "execution_count": 3,
   "metadata": {},
   "outputs": [
    {
     "data": {
      "image/png": "[encoded data removed]",
      "text/plain": [
       "<Figure size 700x500 with 1 Axes>"
      ]
     },
     "metadata": {},
     "output_type": "display_data"
    }
   ],
   "source": [
    "import os\n",
    "import json\n",
    "import pandas as pd\n",
    "import matplotlib.pyplot as plt\n",
    "import mplcursors  # For interactive hover annotations\n",
    "\n",
    "# Path to the main folder containing \"subfolders\" that end with .csv\n",
    "main_folder = \"/home/cs29824/andre/sae_jailbreak_unlearning/results/google__gemma-2b_steer_eval_7\"\n",
    "\n",
    "data_list = []\n",
    "\n",
    "# 1. Gather data from subfolders that end with \".csv\" and parse JSON files\n",
    "for item in os.listdir(main_folder):\n",
    "    subfolder_path = os.path.join(main_folder, item)\n",
    "    \n",
    "    # Check if this is a directory and ends with '.csv'\n",
    "    if os.path.isdir(subfolder_path) and item.endswith(\".csv\"):\n",
    "        # Inside this subfolder, look for JSON files\n",
    "        for fname in os.listdir(subfolder_path):\n",
    "            if fname.endswith(\".json\"):\n",
    "                json_path = os.path.join(subfolder_path, fname)\n",
    "\n",
    "                # Load the JSON\n",
    "                with open(json_path, \"r\") as f:\n",
    "                    data = json.load(f)\n",
    "\n",
    "                # Extract the needed values\n",
    "                try:\n",
    "                    x_val = data[\"results\"][\"wmdp_bio\"][\"acc,none\"]\n",
    "                    y_val = data[\"results\"][\"mmlu_high_school_us_history\"][\"acc,none\"]\n",
    "                except KeyError:\n",
    "                    print(f\"Skipping {json_path} - required keys not found.\")\n",
    "                    continue\n",
    "\n",
    "                data_list.append({\n",
    "                    \"subfolder\": item,  # e.g., \"<something>.csv\"\n",
    "                    \"wmdp_bio\": x_val,\n",
    "                    \"mmlu_high_school_us_history\": y_val\n",
    "                })\n",
    "\n",
    "# 2. Convert collected data to a DataFrame\n",
    "df = pd.DataFrame(data_list)\n",
    "\n",
    "# 3. Create a Matplotlib scatter plot\n",
    "fig, ax = plt.subplots(figsize=(7, 5))\n",
    "scatter = ax.scatter(\n",
    "    df[\"wmdp_bio\"], \n",
    "    df[\"mmlu_high_school_us_history\"], \n",
    "    s=50, \n",
    "    c=\"blue\"\n",
    ")\n",
    "\n",
    "ax.set_xlabel(\"wmdp_bio\")\n",
    "ax.set_ylabel(\"mmlu_high_school_us_history\")\n",
    "ax.set_title(\"WMDP Bio vs. MMLU High School US History (Matplotlib)\")\n",
    "\n",
    "# 4. Add interactive hover using mplcursors\n",
    "cursor = mplcursors.cursor(scatter, hover=True)\n",
    "\n",
    "@cursor.connect(\"add\")\n",
    "def on_add(sel):\n",
    "    # sel.index gives the index of the point in the scatter\n",
    "    idx = sel.index\n",
    "    # Retrieve the subfolder name from our DataFrame\n",
    "    folder_name = df[\"subfolder\"].iloc[idx]\n",
    "    # Customize the annotation text\n",
    "    sel.annotation.set_text(folder_name)\n",
    "\n",
    "# 5. Show the plot\n",
    "plt.tight_layout()\n",
    "plt.show()\n"
   ]
  },
  {
   "cell_type": "code",
   "execution_count": null,
   "metadata": {},
   "outputs": [],
   "source": []
  }
 ],
 "metadata": {
  "kernelspec": {
   "display_name": "interp_arena",
   "language": "python",
   "name": "python3"
  },
  "language_info": {
   "codemirror_mode": {
    "name": "ipython",
    "version": 3
   },
   "file_extension": ".py",
   "mimetype": "text/x-python",
   "name": "python",
   "nbconvert_exporter": "python",
   "pygments_lexer": "ipython3",
   "version": "3.11.11"
  }
 },
 "nbformat": 4,
 "nbformat_minor": 2
}
